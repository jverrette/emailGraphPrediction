{
 "cells": [
  {
   "cell_type": "code",
   "execution_count": 1,
   "metadata": {},
   "outputs": [
    {
     "name": "stdout",
     "output_type": "stream",
     "text": [
      "1.11\n"
     ]
    }
   ],
   "source": [
    "import networkx as nx\n",
    "import pandas as pd\n",
    "import numpy as np\n",
    "import pickle\n",
    "print(nx.__version__)"
   ]
  },
  {
   "cell_type": "markdown",
   "metadata": {},
   "source": [
    "---\n",
    "\n",
    "## Company Emails\n",
    "\n",
    "For the second part of this assignment you will be workking with a company's email network where each node corresponds to a person at the company, and each edge indicates that at least one email has been sent between two people.\n",
    "\n",
    "The network also contains the node attributes `Department` and `ManagementSalary`.\n",
    "\n",
    "`Department` indicates the department in the company which the person belongs to, and `ManagementSalary` indicates whether that person is receiving a management position salary."
   ]
  },
  {
   "cell_type": "code",
   "execution_count": 2,
   "metadata": {},
   "outputs": [
    {
     "name": "stdout",
     "output_type": "stream",
     "text": [
      "Name: \n",
      "Type: Graph\n",
      "Number of nodes: 1005\n",
      "Number of edges: 16706\n",
      "Average degree:  33.2458\n"
     ]
    }
   ],
   "source": [
    "G = nx.read_gpickle('email_prediction.txt')\n",
    "\n",
    "print(nx.info(G))"
   ]
  },
  {
   "cell_type": "markdown",
   "metadata": {},
   "source": [
    "### Salary Prediction\n",
    "\n",
    "Using network `G`, identify the people in the network with missing values for the node attribute `ManagementSalary` and predict whether or not these individuals are receiving a management position salary.\n",
    "\n",
    "To accomplish this, you will need to create a matrix of node features using networkx, train a sklearn classifier on nodes that have `ManagementSalary` data, and predict a probability of the node receiving a management salary for nodes where `ManagementSalary` is missing.\n",
    "\n",
    "\n",
    "\n",
    "Your predictions will need to be given as the probability that the corresponding employee is receiving a management position salary.\n",
    "\n",
    "The evaluation metric for this assignment is the Area Under the ROC Curve (AUC).\n",
    "\n",
    "Your grade will be based on the AUC score computed for your classifier. A model which with an AUC of 0.88 or higher will receive full points, and with an AUC of 0.82 or higher will pass (get 80% of the full points).\n",
    "\n",
    "Using your trained classifier, return a series of length 252 with the data being the probability of receiving management salary, and the index being the node id.\n",
    "\n",
    "    Example:\n",
    "    \n",
    "        1       1.0\n",
    "        2       0.0\n",
    "        5       0.8\n",
    "        8       1.0\n",
    "            ...\n",
    "        996     0.7\n",
    "        1000    0.5\n",
    "        1001    0.0\n",
    "        Length: 252, dtype: float64"
   ]
  },
  {
   "cell_type": "code",
   "execution_count": 3,
   "metadata": {
    "collapsed": true
   },
   "outputs": [],
   "source": [
    "from sklearn.model_selection import train_test_split\n",
    "from sklearn.metrics import roc_auc_score\n",
    "from sklearn import linear_model, preprocessing\n",
    "from sklearn.preprocessing import OneHotEncoder\n",
    "\n",
    "def salary_predictionsDummy():\n",
    "    ########################################################\n",
    "    # Dummy function\n",
    "    nan_mgr_sal = [i[0] for i in nx.get_node_attributes(G, 'ManagementSalary').items() if np.isnan(i[1])]\n",
    "    import random\n",
    "    random.seed(0)\n",
    "    predictions = [random.uniform(0,1) for m in nan_mgr_sal]\n",
    "    return pd.Series(predictions, index=nan_mgr_sal)\n",
    "\n",
    "def salary_predictions():\n",
    "    # Setup DB\n",
    "    df = pd.DataFrame(G.nodes(data=True), columns=['node', 'data'])\n",
    "    df['Department'] = df['data'].map(lambda x: x['Department'])\n",
    "    df['ManagementSalary'] = df['data'].map(lambda x: x['ManagementSalary'])\n",
    "    df = df[['Department', 'ManagementSalary']]\n",
    "   \n",
    "    ###########################################################\n",
    "    # Setup the Department column as categorical variables\n",
    "    inputter = np.array(df['Department'].values, dtype=int).reshape([len(df),1])\n",
    "    enc = OneHotEncoder()\n",
    "    departmenter = enc.fit_transform(inputter).toarray()\n",
    "    ############################################################\n",
    "    # Create the features and put into DB\n",
    "    df['clustering'] = pd.Series(nx.clustering(G))\n",
    "    df['degree'] = pd.Series(G.degree())\n",
    "    df['closeness'] = pd.Series(nx.closeness_centrality(G))\n",
    "    dicc = nx.betweenness_centrality(G)\n",
    "    df['betweenness'] = df.apply(lambda row: dicc[row.name], axis=1)\n",
    "  \n",
    "    # The graph is mostly connected\n",
    "    # [setter for setter in nx.connected_components(G)]\n",
    "    # the above line shows that all of the nodes except for 19 are in the same connected component\n",
    "    # the remaining 19 have no edges connecting to any other nodes\n",
    "    # these will be considered by the degrees of each node\n",
    "    df['isolated'] = df['degree'].map(lambda x: 1 if x==0 else 0)\n",
    "  \n",
    "    # We check whether the node is in the center of the largest connected subgraph\n",
    "    setter = next(nx.connected_components(G))\n",
    "    H = G.subgraph(setter)\n",
    "    centerStage = set(nx.center(H))\n",
    "    df['center'] = pd.Series([node in centerStage for node in G.nodes()])\n",
    "  \n",
    "    ecc = nx.eccentricity(H)\n",
    "    df['eccentricity'] = df.apply(lambda row: ecc[row.name] if row.name in ecc else 10, axis=1)\n",
    "    ############################################################\n",
    "  \n",
    "    # Determine list of important indices\n",
    "    knownLocations = [df.index[i] for i in range(len(df)) if ~np.isnan(df['ManagementSalary'].iloc[i])]\n",
    "    unknownLocations = [df.index[i] for i in range(len(df)) if np.isnan(df['ManagementSalary'].iloc[i])]\n",
    "  \n",
    "    # Create training and testing datasets with y values of 0 or 1 depending on the ManagementSalary\n",
    "    # We do not include the Department or ManagementSalary in the training data\n",
    "    initial = np.array(df[['clustering', 'degree',\n",
    "                     'closeness', 'betweenness', 'isolated', 'center', 'eccentricity']].iloc[knownLocations].values)\n",
    "    #print('X has shape {} but departmenter has shape {}'.format(X.shape, departmenter.shape))\n",
    "    # add in the categorical variables from the one hot vector encoder\n",
    "    #initial, X, departmenter, isknown\n",
    "    X = np.concatenate((departmenter[knownLocations,:], initial), axis=1)\n",
    "    ###########################################################\n",
    "\n",
    "    y = df['ManagementSalary'].iloc[knownLocations].values\n",
    "    # The autograder does not accept the below line\n",
    "    #y = df['ManagementSalary'][isKnown].values\n",
    "    ###########################################################\n",
    "    # Setup the output for the autograder\n",
    "    # We train the classifier on all of X and y\n",
    "    logreg = linear_model.LogisticRegression()\n",
    "    X_scaled = preprocessing.scale(X)\n",
    "    logreg.fit(X_scaled, y)\n",
    "   \n",
    "    # Create the appropriate unkown X values to test on\n",
    "    X_tester = np.array(df[['clustering', 'degree',\n",
    "                     'closeness', 'betweenness', 'isolated', 'center', 'eccentricity']].iloc[unknownLocations].values)\n",
    "    # add in the categorical variables from the one hot vector encoder\n",
    "    X_tester = np.concatenate((departmenter[unknownLocations,:], X_tester), axis=1)\n",
    "\n",
    "    X_test_scaled = preprocessing.scale(X_tester)\n",
    "    y_scores = logreg.predict_proba(X_test_scaled)\n",
    "    predictions = [number for number in y_scores[:,1]]\n",
    "    return pd.Series(predictions, index=unknownLocations)\n",
    "    #return initial, X, departmenter, isKnown, df\n",
    "#return pd.Series(y_scores[:,1], index = df.index.values[unKnown])\n",
    "#initial, X, departmenter, isKnown, df = salary_predictionsInitial()"
   ]
  },
  {
   "cell_type": "code",
   "execution_count": 4,
   "metadata": {},
   "outputs": [
    {
     "name": "stderr",
     "output_type": "stream",
     "text": [
      "/usr/local/lib/python3.5/dist-packages/sklearn/utils/validation.py:475: DataConversionWarning: Data with input dtype object was converted to float64 by the scale function.\n",
      "  warnings.warn(msg, DataConversionWarning)\n"
     ]
    },
    {
     "data": {
      "text/plain": [
       "1       0.018192\n",
       "2       0.981830\n",
       "5       1.000000\n",
       "8       0.051306\n",
       "14      0.374254\n",
       "18      0.176401\n",
       "27      0.509803\n",
       "30      0.508774\n",
       "31      0.142980\n",
       "34      0.113386\n",
       "37      0.039810\n",
       "40      0.114883\n",
       "45      0.098810\n",
       "54      0.285742\n",
       "55      0.716885\n",
       "60      0.042468\n",
       "62      1.000000\n",
       "65      0.998829\n",
       "77      0.010766\n",
       "79      0.016487\n",
       "97      0.001344\n",
       "101     0.000734\n",
       "103     0.156416\n",
       "108     0.038429\n",
       "113     0.965644\n",
       "122     0.001735\n",
       "141     0.617988\n",
       "142     0.955746\n",
       "144     0.007743\n",
       "145     0.486072\n",
       "          ...   \n",
       "913     0.006885\n",
       "914     0.064384\n",
       "915     0.000088\n",
       "918     0.018793\n",
       "923     0.001921\n",
       "926     0.021571\n",
       "931     0.010440\n",
       "934     0.001231\n",
       "939     0.005447\n",
       "944     0.000142\n",
       "945     0.003796\n",
       "947     0.095528\n",
       "950     0.078005\n",
       "951     0.002940\n",
       "953     0.013593\n",
       "959     0.000173\n",
       "962     0.000032\n",
       "963     0.063692\n",
       "968     0.044874\n",
       "969     0.049247\n",
       "974     0.013091\n",
       "984     0.000994\n",
       "987     0.120678\n",
       "989     0.011280\n",
       "991     0.054031\n",
       "992     0.000344\n",
       "994     0.000441\n",
       "996     0.000038\n",
       "1000    0.023706\n",
       "1001    0.088749\n",
       "Length: 252, dtype: float64"
      ]
     },
     "execution_count": 4,
     "metadata": {},
     "output_type": "execute_result"
    }
   ],
   "source": [
    "predictions = salary_predictions()\n",
    "predictions"
   ]
  },
  {
   "cell_type": "code",
   "execution_count": 8,
   "metadata": {},
   "outputs": [
    {
     "ename": "ValueError",
     "evalue": "too many values to unpack (expected 2)",
     "output_type": "error",
     "traceback": [
      "\u001b[0;31m---------------------------------------------------------------------------\u001b[0m",
      "\u001b[0;31mValueError\u001b[0m                                Traceback (most recent call last)",
      "\u001b[0;32m<ipython-input-8-c15e00f96584>\u001b[0m in \u001b[0;36m<module>\u001b[0;34m()\u001b[0m\n\u001b[1;32m      8\u001b[0m     \u001b[0;32mreturn\u001b[0m \u001b[0mroc_auc_score\u001b[0m\u001b[0;34m(\u001b[0m\u001b[0my_test\u001b[0m\u001b[0;34m,\u001b[0m \u001b[0my_scores\u001b[0m\u001b[0;34m[\u001b[0m\u001b[0;34m:\u001b[0m\u001b[0;34m,\u001b[0m\u001b[0;36m1\u001b[0m\u001b[0;34m]\u001b[0m\u001b[0;34m)\u001b[0m\u001b[0;34m\u001b[0m\u001b[0m\n\u001b[1;32m      9\u001b[0m \u001b[0;31m#################################################\u001b[0m\u001b[0;34m\u001b[0m\u001b[0;34m\u001b[0m\u001b[0m\n\u001b[0;32m---> 10\u001b[0;31m \u001b[0mcheckAUC\u001b[0m\u001b[0;34m(\u001b[0m\u001b[0;34m)\u001b[0m\u001b[0;34m\u001b[0m\u001b[0m\n\u001b[0m\u001b[1;32m     11\u001b[0m \u001b[0;31m#0.90767685135746279\u001b[0m\u001b[0;34m\u001b[0m\u001b[0;34m\u001b[0m\u001b[0m\n",
      "\u001b[0;32m<ipython-input-8-c15e00f96584>\u001b[0m in \u001b[0;36mcheckAUC\u001b[0;34m()\u001b[0m\n\u001b[1;32m      1\u001b[0m \u001b[0;31m#################################################\u001b[0m\u001b[0;34m\u001b[0m\u001b[0;34m\u001b[0m\u001b[0m\n\u001b[1;32m      2\u001b[0m \u001b[0;32mdef\u001b[0m \u001b[0mcheckAUC\u001b[0m\u001b[0;34m(\u001b[0m\u001b[0;34m)\u001b[0m\u001b[0;34m:\u001b[0m\u001b[0;34m\u001b[0m\u001b[0m\n\u001b[0;32m----> 3\u001b[0;31m     \u001b[0mX_scaled\u001b[0m\u001b[0;34m,\u001b[0m \u001b[0my\u001b[0m \u001b[0;34m=\u001b[0m \u001b[0mnew_connections_predictions\u001b[0m\u001b[0;34m(\u001b[0m\u001b[0;34m)\u001b[0m\u001b[0;34m\u001b[0m\u001b[0m\n\u001b[0m\u001b[1;32m      4\u001b[0m     \u001b[0mX_train\u001b[0m\u001b[0;34m,\u001b[0m \u001b[0mX_test\u001b[0m\u001b[0;34m,\u001b[0m \u001b[0my_train\u001b[0m\u001b[0;34m,\u001b[0m \u001b[0my_test\u001b[0m \u001b[0;34m=\u001b[0m \u001b[0mtrain_test_split\u001b[0m\u001b[0;34m(\u001b[0m\u001b[0mX_scaled\u001b[0m\u001b[0;34m,\u001b[0m \u001b[0my\u001b[0m\u001b[0;34m,\u001b[0m \u001b[0mtest_size\u001b[0m\u001b[0;34m=\u001b[0m\u001b[0;36m0.33\u001b[0m\u001b[0;34m,\u001b[0m \u001b[0mrandom_state\u001b[0m\u001b[0;34m=\u001b[0m\u001b[0;36m42\u001b[0m\u001b[0;34m)\u001b[0m\u001b[0;34m\u001b[0m\u001b[0m\n\u001b[1;32m      5\u001b[0m     \u001b[0mlogreg\u001b[0m \u001b[0;34m=\u001b[0m \u001b[0mlinear_model\u001b[0m\u001b[0;34m.\u001b[0m\u001b[0mLogisticRegression\u001b[0m\u001b[0;34m(\u001b[0m\u001b[0;34m)\u001b[0m\u001b[0;34m\u001b[0m\u001b[0m\n",
      "\u001b[0;31mValueError\u001b[0m: too many values to unpack (expected 2)"
     ]
    }
   ],
   "source": [
    "#################################################\n",
    "def checkAUC():\n",
    "    X_scaled, y = new_connections_predictions()\n",
    "    X_train, X_test, y_train, y_test = train_test_split(X_scaled, y, test_size=0.33, random_state=42)\n",
    "    logreg = linear_model.LogisticRegression()\n",
    "    logreg.fit(X_train, y_train)\n",
    "    y_scores = logreg.predict_proba(X_test)\n",
    "    return roc_auc_score(y_test, y_scores[:,1])\n",
    "#################################################\n",
    "checkAUC()\n",
    "#0.90767685135746279"
   ]
  },
  {
   "cell_type": "code",
   "execution_count": null,
   "metadata": {
    "collapsed": true
   },
   "outputs": [],
   "source": []
  }
 ],
 "metadata": {
  "coursera": {
   "course_slug": "python-social-network-analysis",
   "graded_item_id": "BGNwe",
   "launcher_item_id": "rMoj0",
   "part_id": "E2zRG"
  },
  "kernelspec": {
   "display_name": "Python 3",
   "language": "python",
   "name": "python3"
  },
  "language_info": {
   "codemirror_mode": {
    "name": "ipython",
    "version": 3
   },
   "file_extension": ".py",
   "mimetype": "text/x-python",
   "name": "python",
   "nbconvert_exporter": "python",
   "pygments_lexer": "ipython3",
   "version": "3.5.2"
  }
 },
 "nbformat": 4,
 "nbformat_minor": 2
}
