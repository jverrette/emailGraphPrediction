{
 "cells": [
  {
   "cell_type": "code",
   "execution_count": 11,
   "metadata": {},
   "outputs": [
    {
     "name": "stdout",
     "output_type": "stream",
     "text": [
      "1.11\n"
     ]
    }
   ],
   "source": [
    "import networkx as nx\n",
    "import pandas as pd\n",
    "import numpy as np\n",
    "import pickle\n",
    "print(nx.__version__)"
   ]
  },
  {
   "cell_type": "markdown",
   "metadata": {},
   "source": [
    "---\n",
    "\n",
    "## Company Emails\n",
    "\n",
    "We analyze a company's email network where each node corresponds to a person at the company, and each edge indicates that at least one email has been sent between two people. Note that these edges are undirected.\n",
    "\n",
    "\n",
    "### Salary Prediction\n",
    "\n",
    "Using this network `G`, we identify the people in the network with missing values for the node attribute `ManagementSalary` and predict whether or not these individuals are receiving a management position salary."
   ]
  },
  {
   "cell_type": "code",
   "execution_count": 12,
   "metadata": {},
   "outputs": [
    {
     "name": "stdout",
     "output_type": "stream",
     "text": [
      "Name: \n",
      "Type: Graph\n",
      "Number of nodes: 1005\n",
      "Number of edges: 16706\n",
      "Average degree:  33.2458\n"
     ]
    }
   ],
   "source": [
    "G = nx.read_gpickle('email_prediction.txt')\n",
    "\n",
    "print(nx.info(G))"
   ]
  },
  {
   "cell_type": "markdown",
   "metadata": {},
   "source": [
    "The network G also contains the node attributes `Department` and `ManagementSalary`.\n",
    "\n",
    "`Department` indicates the department in the company which the person belongs to, and `ManagementSalary` indicates whether that person is receiving a management position salary."
   ]
  },
  {
   "cell_type": "code",
   "execution_count": 13,
   "metadata": {},
   "outputs": [
    {
     "data": {
      "text/html": [
       "<div>\n",
       "<style scoped>\n",
       "    .dataframe tbody tr th:only-of-type {\n",
       "        vertical-align: middle;\n",
       "    }\n",
       "\n",
       "    .dataframe tbody tr th {\n",
       "        vertical-align: top;\n",
       "    }\n",
       "\n",
       "    .dataframe thead th {\n",
       "        text-align: right;\n",
       "    }\n",
       "</style>\n",
       "<table border=\"1\" class=\"dataframe\">\n",
       "  <thead>\n",
       "    <tr style=\"text-align: right;\">\n",
       "      <th></th>\n",
       "      <th>Department</th>\n",
       "      <th>ManagementSalary</th>\n",
       "    </tr>\n",
       "  </thead>\n",
       "  <tbody>\n",
       "    <tr>\n",
       "      <th>0</th>\n",
       "      <td>1</td>\n",
       "      <td>0.0</td>\n",
       "    </tr>\n",
       "    <tr>\n",
       "      <th>1</th>\n",
       "      <td>1</td>\n",
       "      <td>NaN</td>\n",
       "    </tr>\n",
       "    <tr>\n",
       "      <th>2</th>\n",
       "      <td>21</td>\n",
       "      <td>NaN</td>\n",
       "    </tr>\n",
       "    <tr>\n",
       "      <th>3</th>\n",
       "      <td>21</td>\n",
       "      <td>1.0</td>\n",
       "    </tr>\n",
       "    <tr>\n",
       "      <th>4</th>\n",
       "      <td>21</td>\n",
       "      <td>1.0</td>\n",
       "    </tr>\n",
       "  </tbody>\n",
       "</table>\n",
       "</div>"
      ],
      "text/plain": [
       "   Department  ManagementSalary\n",
       "0           1               0.0\n",
       "1           1               NaN\n",
       "2          21               NaN\n",
       "3          21               1.0\n",
       "4          21               1.0"
      ]
     },
     "execution_count": 13,
     "metadata": {},
     "output_type": "execute_result"
    }
   ],
   "source": [
    "def createDB():\n",
    "    # Setup DB\n",
    "    df = pd.DataFrame(G.nodes(data=True), columns=['node', 'data'])\n",
    "    df['Department'] = df['data'].map(lambda x: x['Department'])\n",
    "    df['ManagementSalary'] = df['data'].map(lambda x: x['ManagementSalary'])\n",
    "    df = df[['Department', 'ManagementSalary']]\n",
    "    return df\n",
    "df = createDB()\n",
    "df.head()"
   ]
  },
  {
   "cell_type": "markdown",
   "metadata": {},
   "source": [
    "To accomplish this salary prediction, we create a matrix of node features using networkx.<br> \n",
    "We use the following features:<br>\n",
    " -  clustering\n",
    " -  degree\n",
    " -  closeness\n",
    " -  betweenness\n",
    " -  isolated\n",
    " -  center\n",
    " -  eccentricity\n",
    " -  department"
   ]
  },
  {
   "cell_type": "code",
   "execution_count": 41,
   "metadata": {
    "collapsed": true
   },
   "outputs": [],
   "source": [
    "def numfeatureExtraction(df):\n",
    "    ############################################################\n",
    "    # Create the features and put into DB\n",
    "    df['clustering'] = pd.Series(nx.clustering(G))\n",
    "    df['degree'] = pd.Series(G.degree())\n",
    "    df['closeness'] = pd.Series(nx.closeness_centrality(G))\n",
    "    dicc = nx.betweenness_centrality(G)\n",
    "    df['betweenness'] = df.apply(lambda row: dicc[row.name], axis=1)\n",
    "    ############################################################\n",
    "    #\n",
    "    # The graph is mostly connected\n",
    "    # [setter for setter in nx.connected_components(G)]\n",
    "    # the above line shows that all of the nodes except for 19 are in the same connected component\n",
    "    # the remaining 19 have no edges connecting to any other nodes\n",
    "    # these will be considered by the degrees of each node\n",
    "    df['isolated'] = df['degree'].map(lambda x: 1 if x==0 else 0)\n",
    "    \n",
    "    # We check whether the node is in the center of the largest connected subgraph\n",
    "    setter = next(nx.connected_components(G))\n",
    "    H = G.subgraph(setter)\n",
    "    centerStage = set(nx.center(H))\n",
    "    df['center'] = pd.Series([node in centerStage for node in G.nodes()])\n",
    "    ############################################################\n",
    "    ecc = nx.eccentricity(H)\n",
    "    df['eccentricity'] = df.apply(lambda row: ecc[row.name] if row.name in ecc else 10, axis=1)\n",
    "    ############################################################\n",
    "    return df\n",
    "\n",
    "def catfeatureExtraction(df):\n",
    "    ############################################################\n",
    "    # Setup the Department column as categorical variables\n",
    "    inputter = np.array(df['Department'].values, dtype=int).reshape([len(df),1])\n",
    "    enc = OneHotEncoder()\n",
    "    departmenter = enc.fit_transform(inputter).toarray()\n",
    "    ############################################################\n",
    "    # scale the numerical data\n",
    "    dfdata = preprocessing.scale(np.array(df[['clustering', 'degree', 'closeness',\n",
    "                                                     'betweenness', 'eccentricity']]))\n",
    "    ############################################################\n",
    "    # add together the categorical variables from the one hot vector encoder\n",
    "    # and the numerical data\n",
    "    featurematrix = np.concatenate((departmenter, np.array(df[['center', 'isolated']]), dfdata), axis=1)\n",
    "    return featurematrix"
   ]
  },
  {
   "cell_type": "code",
   "execution_count": 47,
   "metadata": {},
   "outputs": [
    {
     "data": {
      "text/html": [
       "<div>\n",
       "<style scoped>\n",
       "    .dataframe tbody tr th:only-of-type {\n",
       "        vertical-align: middle;\n",
       "    }\n",
       "\n",
       "    .dataframe tbody tr th {\n",
       "        vertical-align: top;\n",
       "    }\n",
       "\n",
       "    .dataframe thead th {\n",
       "        text-align: right;\n",
       "    }\n",
       "</style>\n",
       "<table border=\"1\" class=\"dataframe\">\n",
       "  <thead>\n",
       "    <tr style=\"text-align: right;\">\n",
       "      <th></th>\n",
       "      <th>Department</th>\n",
       "      <th>ManagementSalary</th>\n",
       "      <th>clustering</th>\n",
       "      <th>degree</th>\n",
       "      <th>closeness</th>\n",
       "      <th>betweenness</th>\n",
       "      <th>isolated</th>\n",
       "      <th>center</th>\n",
       "      <th>eccentricity</th>\n",
       "    </tr>\n",
       "  </thead>\n",
       "  <tbody>\n",
       "    <tr>\n",
       "      <th>0</th>\n",
       "      <td>1</td>\n",
       "      <td>0.0</td>\n",
       "      <td>0.276423</td>\n",
       "      <td>44</td>\n",
       "      <td>0.421991</td>\n",
       "      <td>0.001124</td>\n",
       "      <td>0</td>\n",
       "      <td>True</td>\n",
       "      <td>4</td>\n",
       "    </tr>\n",
       "    <tr>\n",
       "      <th>1</th>\n",
       "      <td>1</td>\n",
       "      <td>NaN</td>\n",
       "      <td>0.265306</td>\n",
       "      <td>52</td>\n",
       "      <td>0.422360</td>\n",
       "      <td>0.001195</td>\n",
       "      <td>0</td>\n",
       "      <td>True</td>\n",
       "      <td>4</td>\n",
       "    </tr>\n",
       "    <tr>\n",
       "      <th>2</th>\n",
       "      <td>21</td>\n",
       "      <td>NaN</td>\n",
       "      <td>0.297803</td>\n",
       "      <td>95</td>\n",
       "      <td>0.461490</td>\n",
       "      <td>0.006570</td>\n",
       "      <td>0</td>\n",
       "      <td>False</td>\n",
       "      <td>5</td>\n",
       "    </tr>\n",
       "    <tr>\n",
       "      <th>3</th>\n",
       "      <td>21</td>\n",
       "      <td>1.0</td>\n",
       "      <td>0.384910</td>\n",
       "      <td>71</td>\n",
       "      <td>0.441663</td>\n",
       "      <td>0.001654</td>\n",
       "      <td>0</td>\n",
       "      <td>False</td>\n",
       "      <td>5</td>\n",
       "    </tr>\n",
       "    <tr>\n",
       "      <th>4</th>\n",
       "      <td>21</td>\n",
       "      <td>1.0</td>\n",
       "      <td>0.318691</td>\n",
       "      <td>96</td>\n",
       "      <td>0.462152</td>\n",
       "      <td>0.005547</td>\n",
       "      <td>0</td>\n",
       "      <td>False</td>\n",
       "      <td>5</td>\n",
       "    </tr>\n",
       "  </tbody>\n",
       "</table>\n",
       "</div>"
      ],
      "text/plain": [
       "   Department  ManagementSalary  clustering  degree  closeness  betweenness  \\\n",
       "0           1               0.0    0.276423      44   0.421991     0.001124   \n",
       "1           1               NaN    0.265306      52   0.422360     0.001195   \n",
       "2          21               NaN    0.297803      95   0.461490     0.006570   \n",
       "3          21               1.0    0.384910      71   0.441663     0.001654   \n",
       "4          21               1.0    0.318691      96   0.462152     0.005547   \n",
       "\n",
       "   isolated  center  eccentricity  \n",
       "0         0    True             4  \n",
       "1         0    True             4  \n",
       "2         0   False             5  \n",
       "3         0   False             5  \n",
       "4         0   False             5  "
      ]
     },
     "execution_count": 47,
     "metadata": {},
     "output_type": "execute_result"
    }
   ],
   "source": [
    "df=createDB()\n",
    "df=numfeatureExtraction(df)\n",
    "df.head()"
   ]
  },
  {
   "cell_type": "markdown",
   "metadata": {},
   "source": [
    "A sklearn classifier is trained on nodes that have `ManagementSalary` data, and we predict a probability of the node receiving a management salary for nodes where `ManagementSalary` is missing."
   ]
  },
  {
   "cell_type": "code",
   "execution_count": 43,
   "metadata": {
    "collapsed": true
   },
   "outputs": [],
   "source": [
    "from sklearn.model_selection import train_test_split\n",
    "from sklearn.metrics import roc_auc_score\n",
    "from sklearn import linear_model, preprocessing\n",
    "from sklearn.preprocessing import OneHotEncoder\n",
    "\n",
    "def trainTestSets():\n",
    "    # Get the matrix of features created from the previous functions\n",
    "    df=createDB()\n",
    "    df=numfeatureExtraction(df)\n",
    "    featurematrix=catfeatureExtraction(df)\n",
    "    \n",
    "    # Determine location of known and unkown salaries\n",
    "    knownLocations = [df.index[i] for i in range(len(df)) if ~np.isnan(df['ManagementSalary'].iloc[i])]\n",
    "    unknownLocations = [df.index[i] for i in range(len(df)) if np.isnan(df['ManagementSalary'].iloc[i])]\n",
    "  \n",
    "    # Create training and testing datasets with y values of 0 or 1 depending on the ManagementSalary\n",
    "    X = featurematrix[knownLocations,:]\n",
    "    ###########################################################\n",
    "    # Recover y values to evaluate model via AUC\n",
    "    y = df['ManagementSalary'].iloc[knownLocations].values\n",
    "    ###########################################################   \n",
    "    # Create the appropriate unkown X values to test on\n",
    "    X_test = featurematrix[unknownLocations,:]\n",
    "    \n",
    "    return X, y, X_test\n",
    "\n",
    "def salary_predictions(X, y, X_test):\n",
    "    ###########################################################\n",
    "    # We train the classifier on all of X and y\n",
    "    logreg = linear_model.LogisticRegression()\n",
    "    logreg.fit(X, y)\n",
    "   \n",
    "    y_scores = logreg.predict_proba(X_test)\n",
    "    return y_scores[:,1]\n"
   ]
  },
  {
   "cell_type": "markdown",
   "metadata": {},
   "source": [
    "The evaluation metric for this model is the Area Under the ROC Curve (AUC)."
   ]
  },
  {
   "cell_type": "code",
   "execution_count": 45,
   "metadata": {},
   "outputs": [
    {
     "data": {
      "text/plain": [
       "0.9280437756497948"
      ]
     },
     "execution_count": 45,
     "metadata": {},
     "output_type": "execute_result"
    }
   ],
   "source": [
    "#################################################\n",
    "def checkAUC():\n",
    "    X, y, Xunknown = trainTestSets()\n",
    "    X_train, X_test, y_train, y_test = train_test_split(X, y, test_size=0.33, random_state=42)\n",
    "    logreg = linear_model.LogisticRegression()\n",
    "    logreg.fit(X_train, y_train)\n",
    "    y_scores = logreg.predict_proba(X_test)\n",
    "    return roc_auc_score(y_test, y_scores[:,1])\n",
    "#################################################\n",
    "checkAUC()\n",
    "#0.9280437756497948"
   ]
  },
  {
   "cell_type": "markdown",
   "metadata": {},
   "source": [
    "The predictions are given as the probability that the corresponding employee is receiving a management position salary. Using the trained classifier, a series of the probability of receiving management salary, and the index being the node id is returned."
   ]
  },
  {
   "cell_type": "code",
   "execution_count": 44,
   "metadata": {},
   "outputs": [
    {
     "data": {
      "text/plain": [
       "array([2.77194337e-02, 8.99534183e-01, 9.99999458e-01, 6.27393362e-02,\n",
       "       1.95784472e-01, 1.67156013e-01, 3.49956155e-01, 3.84114325e-01,\n",
       "       1.33137369e-01, 1.29071195e-01, 4.71168478e-02, 9.81086808e-02,\n",
       "       1.05824777e-01, 2.80043221e-01, 6.15728473e-01, 4.37126001e-02,\n",
       "       9.99937405e-01, 9.74341991e-01, 4.99869980e-02, 6.94722137e-02,\n",
       "       2.37560329e-02, 1.13782242e-02, 1.45774329e-01, 6.77120603e-02,\n",
       "       7.80067519e-01, 4.65907987e-03, 3.48270547e-01, 7.96577498e-01,\n",
       "       5.78289484e-02, 4.14471192e-01, 1.06047140e-01, 2.55944441e-01,\n",
       "       9.79341811e-02, 2.10531806e-02, 1.10259652e-01, 3.54950213e-01,\n",
       "       7.12622611e-02, 8.60781937e-02, 8.09471978e-03, 5.30186418e-02,\n",
       "       6.62044740e-02, 4.98256009e-01, 6.44305379e-01, 1.45773285e-01,\n",
       "       1.70914738e-01, 1.59016783e-02, 7.21364413e-02, 8.37891839e-03,\n",
       "       9.57917890e-01, 1.67221589e-01, 4.88623783e-01, 1.62664618e-01,\n",
       "       6.16504848e-01, 5.61822786e-01, 2.51656645e-02, 7.37887282e-02,\n",
       "       2.01432184e-02, 6.04226922e-03, 1.24144267e-01, 6.10731767e-01,\n",
       "       5.91857559e-02, 9.87536036e-02, 1.99365179e-01, 9.28678650e-01,\n",
       "       6.91816446e-02, 6.97541938e-01, 3.80547555e-02, 2.08097162e-02,\n",
       "       5.13445755e-01, 7.40867899e-02, 4.79752098e-02, 2.13627759e-02,\n",
       "       5.01715583e-02, 3.17656341e-03, 3.89044145e-02, 1.07398536e-02,\n",
       "       2.09595200e-01, 1.55806487e-01, 1.92053460e-02, 9.90247168e-02,\n",
       "       7.63885734e-02, 2.48717997e-02, 1.16615936e-01, 1.92856358e-01,\n",
       "       1.44717108e-01, 6.46773365e-01, 8.30901843e-01, 1.08079179e-01,\n",
       "       1.85619512e-01, 1.38868587e-01, 4.39009906e-02, 2.75003358e-01,\n",
       "       3.78275402e-02, 1.21763002e-01, 1.42899357e-01, 5.96530621e-02,\n",
       "       5.83438583e-03, 4.46655414e-02, 4.05379126e-01, 2.35923609e-01,\n",
       "       7.20851419e-01, 9.31209154e-01, 9.97601909e-01, 4.65416671e-02,\n",
       "       7.23658501e-01, 3.20853809e-02, 4.70826345e-03, 3.41553185e-01,\n",
       "       5.97161172e-02, 1.87658343e-01, 1.33775134e-02, 1.10374907e-01,\n",
       "       8.76697583e-02, 4.50525345e-02, 4.38901876e-02, 5.82967966e-02,\n",
       "       1.05691271e-01, 2.18499722e-01, 5.63040184e-03, 1.15001778e-01,\n",
       "       7.44724235e-01, 4.43674534e-02, 1.07218698e-02, 1.62307934e-02,\n",
       "       1.41937122e-02, 8.63884827e-02, 7.70834046e-02, 1.98504681e-01,\n",
       "       4.09870062e-01, 1.05942552e-02, 9.86091074e-06, 4.19514071e-02,\n",
       "       3.49619812e-03, 1.10715994e-01, 9.99128476e-01, 5.93677633e-03,\n",
       "       6.26030194e-02, 6.11595639e-02, 1.74790256e-01, 1.07187766e-04,\n",
       "       1.40398531e-01, 3.07243745e-05, 1.98955787e-02, 6.06396087e-02,\n",
       "       2.98685086e-05, 1.22106443e-01, 1.78073189e-03, 1.23861366e-01,\n",
       "       1.97351898e-01, 8.17851603e-04, 1.07290373e-02, 2.36606273e-01,\n",
       "       2.43240034e-01, 9.42231339e-02, 2.11003409e-02, 2.77202316e-02,\n",
       "       3.53633570e-03, 9.38389479e-03, 5.83296987e-02, 5.68821661e-03,\n",
       "       2.25168061e-10, 2.34061520e-02, 4.71981865e-02, 5.99131968e-03,\n",
       "       3.85671393e-03, 2.66590575e-01, 2.46220444e-01, 2.25168061e-10,\n",
       "       4.08455981e-02, 2.61743403e-02, 7.79302020e-02, 7.93082678e-02,\n",
       "       1.29502208e-02, 3.35911371e-01, 5.33157233e-03, 3.32341524e-01,\n",
       "       3.08809738e-01, 6.15032774e-02, 1.08637098e-03, 5.43629546e-03,\n",
       "       3.74617811e-01, 6.13376988e-03, 4.65667622e-03, 2.09045105e-03,\n",
       "       2.90303094e-02, 7.49262975e-02, 3.42022489e-02, 1.96195106e-04,\n",
       "       4.26673055e-02, 1.87764407e-02, 2.30787586e-02, 2.75942051e-04,\n",
       "       4.60198260e-05, 8.65600629e-03, 5.26939292e-11, 1.27928494e-02,\n",
       "       2.51865027e-03, 4.23133451e-11, 4.70433159e-03, 6.35119794e-02,\n",
       "       5.15127455e-03, 9.60553479e-01, 2.04861920e-02, 9.64151066e-03,\n",
       "       2.90594647e-01, 6.08103435e-03, 1.42638205e-03, 7.51201513e-05,\n",
       "       1.76911207e-04, 4.50796368e-04, 2.12424826e-01, 5.37723728e-02,\n",
       "       2.49055685e-02, 4.13346892e-05, 8.20296388e-02, 4.50152620e-05,\n",
       "       2.32736581e-02, 4.96091933e-04, 8.01754724e-02, 3.25060381e-04,\n",
       "       1.42650414e-01, 2.67007384e-03, 9.66078891e-03, 5.17677823e-02,\n",
       "       1.21635456e-04, 6.44918904e-02, 3.10966645e-03, 4.17806941e-02,\n",
       "       1.93368120e-02, 2.53776265e-03, 4.19109060e-03, 1.74961351e-04,\n",
       "       8.65487928e-03, 1.35604922e-01, 7.64270441e-02, 5.26841536e-03,\n",
       "       1.55029462e-02, 2.33753489e-04, 4.73018830e-05, 8.13514726e-02,\n",
       "       5.16995629e-02, 5.70045191e-02, 5.45384138e-02, 2.07283740e-03,\n",
       "       1.66531351e-01, 2.85949635e-02, 6.55182849e-02, 4.51516757e-04,\n",
       "       6.12820078e-04, 6.80677915e-05, 3.24804569e-02, 1.27079066e-01])"
      ]
     },
     "execution_count": 44,
     "metadata": {},
     "output_type": "execute_result"
    }
   ],
   "source": [
    "X, y, X_test = trainTestSets()\n",
    "predictions = salary_predictions(X, y, X_test)\n",
    "predictions"
   ]
  },
  {
   "cell_type": "code",
   "execution_count": null,
   "metadata": {
    "collapsed": true
   },
   "outputs": [],
   "source": []
  }
 ],
 "metadata": {
  "coursera": {
   "course_slug": "python-social-network-analysis",
   "graded_item_id": "BGNwe",
   "launcher_item_id": "rMoj0",
   "part_id": "E2zRG"
  },
  "kernelspec": {
   "display_name": "Python 3",
   "language": "python",
   "name": "python3"
  },
  "language_info": {
   "codemirror_mode": {
    "name": "ipython",
    "version": 3
   },
   "file_extension": ".py",
   "mimetype": "text/x-python",
   "name": "python",
   "nbconvert_exporter": "python",
   "pygments_lexer": "ipython3",
   "version": "3.5.2"
  }
 },
 "nbformat": 4,
 "nbformat_minor": 2
}
